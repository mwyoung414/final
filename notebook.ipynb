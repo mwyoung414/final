{
 "cells": [
  {
   "cell_type": "code",
   "execution_count": 5,
   "id": "85d31027",
   "metadata": {},
   "outputs": [],
   "source": [
    "import pandas as pd\n",
    "from pathlib import Path\n",
    "import chardet"
   ]
  },
  {
   "cell_type": "code",
   "execution_count": 4,
   "id": "39ba7dda",
   "metadata": {},
   "outputs": [],
   "source": [
    "\n",
    "hotels = pd.read_csv('hotels.csv', encoding='Windows-1252')"
   ]
  },
  {
   "cell_type": "code",
   "execution_count": 5,
   "id": "e8e2867f",
   "metadata": {},
   "outputs": [
    {
     "data": {
      "text/plain": [
       "Index(['countyCode', ' countyName', ' cityCode', ' cityName', ' HotelCode',\n",
       "       ' HotelName', ' HotelRating', ' Address', ' Attractions',\n",
       "       ' Description', ' FaxNumber', ' HotelFacilities', ' Map',\n",
       "       ' PhoneNumber', ' PinCode', ' HotelWebsiteUrl'],\n",
       "      dtype='object')"
      ]
     },
     "execution_count": 5,
     "metadata": {},
     "output_type": "execute_result"
    }
   ],
   "source": [
    "hotels.columns"
   ]
  },
  {
   "cell_type": "code",
   "execution_count": 11,
   "id": "20539864",
   "metadata": {},
   "outputs": [],
   "source": [
    "usa_hotels = hotels[hotels['countyCode'] == 'US']"
   ]
  },
  {
   "cell_type": "code",
   "execution_count": 12,
   "id": "5b75c75c",
   "metadata": {},
   "outputs": [
    {
     "data": {
      "application/vnd.microsoft.datawrangler.viewer.v0+json": {
       "columns": [
        {
         "name": "index",
         "rawType": "int64",
         "type": "integer"
        },
        {
         "name": "countyCode",
         "rawType": "object",
         "type": "string"
        },
        {
         "name": " countyName",
         "rawType": "object",
         "type": "string"
        },
        {
         "name": " cityCode",
         "rawType": "int64",
         "type": "integer"
        },
        {
         "name": " cityName",
         "rawType": "object",
         "type": "string"
        },
        {
         "name": " HotelCode",
         "rawType": "int64",
         "type": "integer"
        },
        {
         "name": " HotelName",
         "rawType": "object",
         "type": "string"
        },
        {
         "name": " HotelRating",
         "rawType": "object",
         "type": "string"
        },
        {
         "name": " Address",
         "rawType": "object",
         "type": "string"
        },
        {
         "name": " Attractions",
         "rawType": "object",
         "type": "unknown"
        },
        {
         "name": " Description",
         "rawType": "object",
         "type": "string"
        },
        {
         "name": " FaxNumber",
         "rawType": "object",
         "type": "string"
        },
        {
         "name": " HotelFacilities",
         "rawType": "object",
         "type": "string"
        },
        {
         "name": " Map",
         "rawType": "object",
         "type": "string"
        },
        {
         "name": " PhoneNumber",
         "rawType": "object",
         "type": "string"
        },
        {
         "name": " PinCode",
         "rawType": "object",
         "type": "string"
        },
        {
         "name": " HotelWebsiteUrl",
         "rawType": "object",
         "type": "string"
        }
       ],
       "conversionMethod": "pd.DataFrame",
       "ref": "a0400ed6-20c2-43c3-bcb6-1092d7094020",
       "rows": [
        [
         "866143",
         "US",
         "United States",
         "100328",
         "Abbeville,   Louisiana",
         "1094195",
         "Sunbelt Lodge Motel",
         "TwoStar",
         "1903 Veterans Memorial Drive AbbevilleLouisiana 70510 ",
         null,
         "Sunbelt Lodge Motel is a 2-star property situated in Abbeville. Featuring a shared lounge, the 2-star motel has air-conditioned rooms with free WiFi, each with a private bathroom. The motel has family rooms.\n\nAt the motel rooms have a desk and a flat-screen TV.\n\nGuests at Sunbelt Lodge Motel can enjoy a continental breakfast.\n\nThe reception at the accommodation can provide tips on the area.\n\nLafayette is 35 km from Sunbelt Lodge Motel. The nearest airport is Lafayette Airport, 38 km from the motel. Guests are required to show a photo identification and credit card upon check-in. Please note that all Special Requests are subject to availability and additional charges may apply.\nSwimming pool #1 is closed from Tue 01 Dec 2020 until Sat 01 May 2021",
         "+13378981463",
         "shared lounge/TV area meeting/banquet facilities wifi Swimming pool Smoke alarms Outdoor pool vending machine (drinks) On-site parking Business centre Fax/photocopying outdoor pool (seasonal) Daily housekeeping pool/beach towels Facilities for disabled guests Parking Shallow end Non-smoking rooms Fire extinguishers Fence around pool Free WiFi Air conditioning Family rooms Laundry Heating Pets allowed internet services 24-hour front desk",
         "29.9806|-92.11452",
         "+13378981453",
         "LA 70510",
         "https://www.booking.com/hotel/us/sunbelt-lodge-motel.html"
        ],
        [
         "866144",
         "US",
         "United States",
         "100328",
         "Abbeville,   Louisiana",
         "1125999",
         "Budget Inn & Suites",
         "TwoStar",
         "2115 Charity Street AbbevilleLouisiana 70510 ",
         null,
         "Offering a free continental breakfast and an outdoor pool, Budget Inn & Suites is located in Abbeville. Free WiFi access is available. Each room here will provide you with a TV and air conditioning. Complete with a microwave, the dining area also has a refrigerator. Featuring a shower, private bathroom also comes with a bath and free toiletries. You can enjoy pool view from the room. Extras include a desk and bed linen.\n\nAt Budget Inn & Suites you will find a hot tub, a 24-hour front desk and barbecue facilities. Other facilities offered at the property include laundry facilities and a vending machine. The property offers free parking. Guests are required to show a photo identification and credit card upon check-in. Please note that all Special Requests are subject to availability and additional charges may apply.\nA damage deposit of USD 10 is required on arrival. This will be collected as a cash payment. You should be reimbursed on check-out. Your deposit will be refunded in full in cash, subject to an inspection of the property.",
         "+1(0)3374224699",
         "24-hour front desk Non-smoking rooms Laundry Free parking internet services Hot tub/jacuzzi BBQ facilities Heating Fax/photocopying wifi Outdoor pool Free WiFi Air conditioning outdoor pool (seasonal) vending machine (drinks) Daily housekeeping parking on site Swimming pool Parking",
         "29.97315|-92.11281",
         "1-337-8989770",
         "LA 70510",
         "https://www.booking.com/hotel/us/budget-inn-amp-suites-abbeville.html"
        ],
        [
         "866145",
         "US",
         "United States",
         "100328",
         "Abbeville,   Louisiana",
         "1179258",
         "Best Western Abbeville Inn & Suites",
         "TwoStar",
         "3515 Veterans Memorial Dr Abbeville AbbevilleLouisiana 70510 ",
         "Distances are displayed to the nearest 0.1 mile and kilometer. <br /> <p>Abbeville General Hospital - 2.8 km / 1.8 mi <br /> Rip s Rookery - 13.1 km / 8.1 mi <br /> Vivian Alexander Gallery and Museum - 22 km / 13.7 mi <br /> Youngsville Sports Complex - 23.9 km / 14.9 mi <br /> Bird City - 24.2 km / 15 mi <br /> Acadiana Promenade Shopping Center - 28.3 km / 17.6 mi <br /> Books Along The Teche - 28.9 km / 17.9 mi <br /> Acadiana Mall - 29.1 km / 18.1 mi <br /> Les Vieux Chenes Municipal Golf Course - 29.8 km / 18.5 mi <br /> Acadian Village - 30 km / 18.7 mi <br /> Spanish Lake - 30.1 km / 18.7 mi <br /> Kart Ranch Family Fun Center - 31 km / 19.3 mi <br /> Broadmoor Park - 31 km / 19.3 mi <br /> Southside Regional Park - 31.3 km / 19.4 mi <br /> Zoo of Acadiana - 31.5 km / 19.6 mi <br /> </p><p>The preferred airport for Best Western Abbeville Inn & Suites is Lafayette Regional Airport (LFT) - 39.7 km / 24.7 mi </p>",
         "<p>HeadLine : Near Abbeville General Hospital</p><p>Location : When you stay at Best Western Abbeville Inn & Suites in Abbeville, you ll be near the airport and within a 5-minute drive of Abbeville General Hospital.  This hotel is 22.2 mi (35.7 km) from Cajundome and 22.9 mi (36.8 km) from University of Louisiana at Lafayette.</p><p>Rooms : Make yourself at home in one of the 58 air-conditioned rooms featuring refrigerators and flat-screen televisions. Your room comes with a pillowtop bed. Complimentary wired and wireless Internet access keeps you connected, and cable programming provides entertainment. Private bathrooms have hair dryers and toothbrushes and toothpaste.</p><p>Dining : A complimentary buffet breakfast is served on weekdays from 6:00 AM to 9:00 AM and on weekends from 7:00 AM to 10:00 AM.</p><p>CheckIn Instructions : <ul>  <li>Extra-person charges may apply and vary depending on property policy</li><li>Government-issued photo identification and a credit card, debit card, or cash deposit may be required at check-in for incidental charges</li><li>Special requests are subject to availability upon check-in and may incur additional charges; special requests cannot be guaranteed</li><li>This property accepts credit cards, debit cards, and cash</li>  </ul></p><p>Special Instructions : Front desk staff will greet guests on arrival.</p>",
         "1-337-740-4101",
         "Wheelchair accessible (may have limitations) Vending machine Luggage storage Free breakfast Multilingual staff Business center Number of meeting rooms - 1 24-hour front desk Free wired Internet Free WiFi Daily Number of outdoor pools - 1 Assistive listening devices available Safe-deposit box at front desk Smoke-free property In-room accessibility (in select rooms) Laundry facilities Accessible bathroom (in select rooms) elevator Free self parking Fitness facilities Computer station Free Buffet Breakfast",
         "29.967878|-92.08536",
         "1-337-740-4100",
         "70510",
         "http://bestwesternlouisiana.com/hotels/best-western-abbeville-inn-and-suites"
        ],
        [
         "866146",
         "US",
         "United States",
         "100328",
         "Abbeville,   Louisiana",
         "1250024",
         "Motel 6 Abbeville LA",
         "TwoStar",
         "3523 Veterans Memorial Drive AbbevilleLouisiana 70510 ",
         "Distances are displayed to the nearest 0.1 mile and kilometer. <br /> <p>Abbeville General Hospital - 2.9 km / 1.8 mi <br /> Rip s Rookery - 13 km / 8.1 mi <br /> Vivian Alexander Gallery and Museum - 18 km / 11.2 mi <br /> Youngsville Sports Complex - 23.9 km / 14.8 mi <br /> Bird City - 24.1 km / 15 mi <br /> Acadiana Promenade Shopping Center - 28.4 km / 17.7 mi <br /> Books Along The Teche - 28.8 km / 17.9 mi <br /> Acadiana Mall - 29.1 km / 18.1 mi <br /> Les Vieux Chenes Municipal Golf Course - 29.7 km / 18.5 mi <br /> Spanish Lake - 30 km / 18.6 mi <br /> Acadian Village - 30.1 km / 18.7 mi <br /> Kart Ranch Family Fun Center - 30.9 km / 19.2 mi <br /> Broadmoor Park - 31.1 km / 19.3 mi <br /> Southside Regional Park - 31.2 km / 19.4 mi <br /> Zoo of Acadiana - 31.4 km / 19.5 mi <br /> </p><p>The preferred airport for Motel 6 Abbeville  LA is Lafayette Regional Airport (LFT) - 39.8 km / 24.7 mi </p>",
         "<p>HeadLine : Near Abbeville General Hospital</p><p>Location : Located in Abbeville, Motel 6 Abbeville, LA is in the historical district, within a 15-minute drive of Abbeville General Hospital and Rip s Rookery.  This motel is 22.3 mi (35.8 km) from Cajundome and 22.9 mi (36.9 km) from University of Louisiana at Lafayette.</p><p>Rooms : Make yourself at home in one of the 53 guestrooms featuring refrigerators and microwaves. 32-inch flat-screen televisions with cable programming provide entertainment, while complimentary wireless Internet access keeps you connected. Bathrooms have shower/tub combinations and hair dryers. Conveniences include desks and blackout drapes/curtains, as well as phones with free local calls.</p><p>Dining : Grab a bite from the snack bar/deli serving guests of Motel 6 Abbeville, LA.</p><p>Renovations : The following facilities or services will be unavailable from May 22 2023 to May 1 2024 (dates subject to change): <ul><li>Swimming pool</li></ul></p><p>CheckIn Instructions : <ul>  <li>Extra-person charges may apply and vary depending on property policy</li><li>Government-issued photo identification and a credit card may be required at check-in for incidental charges</li><li>Special requests are subject to availability upon check-in and may incur additional charges; special requests cannot be guaranteed</li><li>The name on the credit card used at check-in to pay for incidentals must be the primary name on the guestroom reservation</li><li>This property accepts credit cards, debit cards, and cash</li>  </ul></p><p>Special Instructions : Front desk staff will greet guests on arrival.</p>",
         "1-337-898-2399",
         "Wheelchair accessible (may have limitations) Wheelchair accessible Free RV  bus  truck parking Express check-in Wheelchair-accessible van parking Wheelchair-accessible registration desk Pool hoist on site Television in common areas Free WiFi Wheelchair-accessible pool Wheelchair-accessible public washroom Designated smoking areas Braille or raised signage Assistive listening devices available Garden In-room accessibility (in select rooms) Wheelchair accessible parking Stair-free path to entrance Accessible bathroom (in select rooms) Express check-out Business center 24-hour front desk Wheelchair-accessible meeting spaces/business center Golfing nearby Snack bar/deli Laundry facilities Free self parking Wheelchair accessible path of travel",
         "29.968056|-92.08443",
         "+1 337 898 3180",
         "70510",
         "https://www.motel6.com/content/g6/motel6/motel6-co"
        ],
        [
         "866147",
         "US",
         "United States",
         "100328",
         "Abbeville,   Louisiana",
         "1366117",
         "Days Inn by Wyndham Abbeville",
         "TwoStar",
         "730 Veterans Memorial Dr AbbevilleLouisiana 70510 ",
         "Distances are displayed to the nearest 0.1 mile and kilometer. <br /> <p>Abbeville General Hospital - 2.8 km / 1.7 mi <br /> Vivian Alexander Gallery and Museum - 17.8 km / 11.1 mi <br /> Rip s Rookery - 18.3 km / 11.4 mi <br /> Youngsville Sports Complex - 23.4 km / 14.5 mi <br /> Acadiana Promenade Shopping Center - 24.2 km / 15 mi <br /> Acadiana Mall - 24.9 km / 15.5 mi <br /> Acadian Village - 25.9 km / 16.1 mi <br /> Broadmoor Park - 26.9 km / 16.7 mi <br /> Thomas Park - 27.5 km / 17.1 mi <br /> Fiesta Village Shopping Center - 27.6 km / 17.2 mi <br /> Grand Marche Shopping Center - 27.7 km / 17.2 mi <br /> Chargois Park - 27.7 km / 17.2 mi <br /> Southwest Medical Center Emr - 27.9 km / 17.3 mi <br /> Louisiana Extended Care Hospital - 27.9 km / 17.3 mi <br /> The Boulevard Shopping Center - 28.6 km / 17.8 mi <br /> </p><p>The preferred airport for Days Inn by Wyndham Abbeville is Lafayette Regional Airport (LFT) - 35.7 km / 22.2 mi </p>",
         "<p>HeadLine : Near Abbeville General Hospital</p><p>Location : A stay at Days Inn by Wyndham Abbeville places you in the heart of Abbeville, and within a 5-minute drive of Abbeville General Hospital.  This hotel is 19.1 mi (30.7 km) from University of Louisiana at Lafayette and 19.6 mi (31.6 km) from Cajundome.</p><p>Rooms : Make yourself at home in one of the 40 guestrooms featuring refrigerators and LED televisions. Rooms have private balconies. Complimentary wired and wireless Internet access keeps you connected, and cable programming provides entertainment. Private bathrooms with shower/tub combinations feature deep soaking bathtubs and complimentary toiletries.</p><p>Dining : Take advantage of the hotel s 24-hour room service. A complimentary on-the-go breakfast is served daily from 6 AM to 9 AM.</p><p>CheckIn Instructions : <ul>  <li>Extra-person charges may apply and vary depending on property policy</li><li>Government-issued photo identification and a credit card, debit card, or cash deposit may be required at check-in for incidental charges</li><li>Special requests are subject to availability upon check-in and may incur additional charges; special requests cannot be guaranteed</li><li>This property accepts credit cards; cash is not accepted</li>  </ul></p><p>Special Instructions : This property doesn t offer after-hours check-in. Front desk staff will greet guests on arrival.</p>",
         "1-337-7404667",
         "Express check-out Multilingual staff 24-hour front desk Daily Safe-deposit box at front desk Coffee/tea in common areas Laundry facilities Free self parking Wheelchair accessible path of travel Concierge services 24-hour business center Wheelchair accessible Free RV  bus  truck parking Express check-in Wired Internet access - surcharge Television in common areas Free WiFi Garden In-room accessibility (in select rooms) Wheelchair accessible parking Free newspapers in lobby Roll-in shower (in select rooms) Accessible bathroom (in select rooms) Free breakfast to go Luggage storage Free breakfast",
         "29.981226|-92.12469",
         "1-337-7404666",
         "70510",
         "http://www.executiveinnexpress.com/"
        ]
       ],
       "shape": {
        "columns": 16,
        "rows": 5
       }
      },
      "text/html": [
       "<div>\n",
       "<style scoped>\n",
       "    .dataframe tbody tr th:only-of-type {\n",
       "        vertical-align: middle;\n",
       "    }\n",
       "\n",
       "    .dataframe tbody tr th {\n",
       "        vertical-align: top;\n",
       "    }\n",
       "\n",
       "    .dataframe thead th {\n",
       "        text-align: right;\n",
       "    }\n",
       "</style>\n",
       "<table border=\"1\" class=\"dataframe\">\n",
       "  <thead>\n",
       "    <tr style=\"text-align: right;\">\n",
       "      <th></th>\n",
       "      <th>countyCode</th>\n",
       "      <th>countyName</th>\n",
       "      <th>cityCode</th>\n",
       "      <th>cityName</th>\n",
       "      <th>HotelCode</th>\n",
       "      <th>HotelName</th>\n",
       "      <th>HotelRating</th>\n",
       "      <th>Address</th>\n",
       "      <th>Attractions</th>\n",
       "      <th>Description</th>\n",
       "      <th>FaxNumber</th>\n",
       "      <th>HotelFacilities</th>\n",
       "      <th>Map</th>\n",
       "      <th>PhoneNumber</th>\n",
       "      <th>PinCode</th>\n",
       "      <th>HotelWebsiteUrl</th>\n",
       "    </tr>\n",
       "  </thead>\n",
       "  <tbody>\n",
       "    <tr>\n",
       "      <th>866143</th>\n",
       "      <td>US</td>\n",
       "      <td>United States</td>\n",
       "      <td>100328</td>\n",
       "      <td>Abbeville,   Louisiana</td>\n",
       "      <td>1094195</td>\n",
       "      <td>Sunbelt Lodge Motel</td>\n",
       "      <td>TwoStar</td>\n",
       "      <td>1903 Veterans Memorial Drive AbbevilleLouisian...</td>\n",
       "      <td>NaN</td>\n",
       "      <td>Sunbelt Lodge Motel is a 2-star property situa...</td>\n",
       "      <td>+13378981463</td>\n",
       "      <td>shared lounge/TV area meeting/banquet faciliti...</td>\n",
       "      <td>29.9806|-92.11452</td>\n",
       "      <td>+13378981453</td>\n",
       "      <td>LA 70510</td>\n",
       "      <td>https://www.booking.com/hotel/us/sunbelt-lodge...</td>\n",
       "    </tr>\n",
       "    <tr>\n",
       "      <th>866144</th>\n",
       "      <td>US</td>\n",
       "      <td>United States</td>\n",
       "      <td>100328</td>\n",
       "      <td>Abbeville,   Louisiana</td>\n",
       "      <td>1125999</td>\n",
       "      <td>Budget Inn &amp; Suites</td>\n",
       "      <td>TwoStar</td>\n",
       "      <td>2115 Charity Street AbbevilleLouisiana 70510</td>\n",
       "      <td>NaN</td>\n",
       "      <td>Offering a free continental breakfast and an o...</td>\n",
       "      <td>+1(0)3374224699</td>\n",
       "      <td>24-hour front desk Non-smoking rooms Laundry F...</td>\n",
       "      <td>29.97315|-92.11281</td>\n",
       "      <td>1-337-8989770</td>\n",
       "      <td>LA 70510</td>\n",
       "      <td>https://www.booking.com/hotel/us/budget-inn-am...</td>\n",
       "    </tr>\n",
       "    <tr>\n",
       "      <th>866145</th>\n",
       "      <td>US</td>\n",
       "      <td>United States</td>\n",
       "      <td>100328</td>\n",
       "      <td>Abbeville,   Louisiana</td>\n",
       "      <td>1179258</td>\n",
       "      <td>Best Western Abbeville Inn &amp; Suites</td>\n",
       "      <td>TwoStar</td>\n",
       "      <td>3515 Veterans Memorial Dr Abbeville AbbevilleL...</td>\n",
       "      <td>Distances are displayed to the nearest 0.1 mil...</td>\n",
       "      <td>&lt;p&gt;HeadLine : Near Abbeville General Hospital&lt;...</td>\n",
       "      <td>1-337-740-4101</td>\n",
       "      <td>Wheelchair accessible (may have limitations) V...</td>\n",
       "      <td>29.967878|-92.08536</td>\n",
       "      <td>1-337-740-4100</td>\n",
       "      <td>70510</td>\n",
       "      <td>http://bestwesternlouisiana.com/hotels/best-we...</td>\n",
       "    </tr>\n",
       "    <tr>\n",
       "      <th>866146</th>\n",
       "      <td>US</td>\n",
       "      <td>United States</td>\n",
       "      <td>100328</td>\n",
       "      <td>Abbeville,   Louisiana</td>\n",
       "      <td>1250024</td>\n",
       "      <td>Motel 6 Abbeville LA</td>\n",
       "      <td>TwoStar</td>\n",
       "      <td>3523 Veterans Memorial Drive AbbevilleLouisian...</td>\n",
       "      <td>Distances are displayed to the nearest 0.1 mil...</td>\n",
       "      <td>&lt;p&gt;HeadLine : Near Abbeville General Hospital&lt;...</td>\n",
       "      <td>1-337-898-2399</td>\n",
       "      <td>Wheelchair accessible (may have limitations) W...</td>\n",
       "      <td>29.968056|-92.08443</td>\n",
       "      <td>+1 337 898 3180</td>\n",
       "      <td>70510</td>\n",
       "      <td>https://www.motel6.com/content/g6/motel6/motel...</td>\n",
       "    </tr>\n",
       "    <tr>\n",
       "      <th>866147</th>\n",
       "      <td>US</td>\n",
       "      <td>United States</td>\n",
       "      <td>100328</td>\n",
       "      <td>Abbeville,   Louisiana</td>\n",
       "      <td>1366117</td>\n",
       "      <td>Days Inn by Wyndham Abbeville</td>\n",
       "      <td>TwoStar</td>\n",
       "      <td>730 Veterans Memorial Dr AbbevilleLouisiana 70...</td>\n",
       "      <td>Distances are displayed to the nearest 0.1 mil...</td>\n",
       "      <td>&lt;p&gt;HeadLine : Near Abbeville General Hospital&lt;...</td>\n",
       "      <td>1-337-7404667</td>\n",
       "      <td>Express check-out Multilingual staff 24-hour f...</td>\n",
       "      <td>29.981226|-92.12469</td>\n",
       "      <td>1-337-7404666</td>\n",
       "      <td>70510</td>\n",
       "      <td>http://www.executiveinnexpress.com/</td>\n",
       "    </tr>\n",
       "  </tbody>\n",
       "</table>\n",
       "</div>"
      ],
      "text/plain": [
       "       countyCode     countyName   cityCode                cityName  \\\n",
       "866143         US  United States     100328  Abbeville,   Louisiana   \n",
       "866144         US  United States     100328  Abbeville,   Louisiana   \n",
       "866145         US  United States     100328  Abbeville,   Louisiana   \n",
       "866146         US  United States     100328  Abbeville,   Louisiana   \n",
       "866147         US  United States     100328  Abbeville,   Louisiana   \n",
       "\n",
       "         HotelCode                            HotelName  HotelRating  \\\n",
       "866143     1094195                  Sunbelt Lodge Motel      TwoStar   \n",
       "866144     1125999                  Budget Inn & Suites      TwoStar   \n",
       "866145     1179258  Best Western Abbeville Inn & Suites      TwoStar   \n",
       "866146     1250024                 Motel 6 Abbeville LA      TwoStar   \n",
       "866147     1366117        Days Inn by Wyndham Abbeville      TwoStar   \n",
       "\n",
       "                                                  Address  \\\n",
       "866143  1903 Veterans Memorial Drive AbbevilleLouisian...   \n",
       "866144      2115 Charity Street AbbevilleLouisiana 70510    \n",
       "866145  3515 Veterans Memorial Dr Abbeville AbbevilleL...   \n",
       "866146  3523 Veterans Memorial Drive AbbevilleLouisian...   \n",
       "866147  730 Veterans Memorial Dr AbbevilleLouisiana 70...   \n",
       "\n",
       "                                              Attractions  \\\n",
       "866143                                                NaN   \n",
       "866144                                                NaN   \n",
       "866145  Distances are displayed to the nearest 0.1 mil...   \n",
       "866146  Distances are displayed to the nearest 0.1 mil...   \n",
       "866147  Distances are displayed to the nearest 0.1 mil...   \n",
       "\n",
       "                                              Description        FaxNumber  \\\n",
       "866143  Sunbelt Lodge Motel is a 2-star property situa...     +13378981463   \n",
       "866144  Offering a free continental breakfast and an o...  +1(0)3374224699   \n",
       "866145  <p>HeadLine : Near Abbeville General Hospital<...   1-337-740-4101   \n",
       "866146  <p>HeadLine : Near Abbeville General Hospital<...   1-337-898-2399   \n",
       "866147  <p>HeadLine : Near Abbeville General Hospital<...    1-337-7404667   \n",
       "\n",
       "                                          HotelFacilities  \\\n",
       "866143  shared lounge/TV area meeting/banquet faciliti...   \n",
       "866144  24-hour front desk Non-smoking rooms Laundry F...   \n",
       "866145  Wheelchair accessible (may have limitations) V...   \n",
       "866146  Wheelchair accessible (may have limitations) W...   \n",
       "866147  Express check-out Multilingual staff 24-hour f...   \n",
       "\n",
       "                        Map      PhoneNumber   PinCode  \\\n",
       "866143    29.9806|-92.11452     +13378981453  LA 70510   \n",
       "866144   29.97315|-92.11281    1-337-8989770  LA 70510   \n",
       "866145  29.967878|-92.08536   1-337-740-4100     70510   \n",
       "866146  29.968056|-92.08443  +1 337 898 3180     70510   \n",
       "866147  29.981226|-92.12469    1-337-7404666     70510   \n",
       "\n",
       "                                          HotelWebsiteUrl  \n",
       "866143  https://www.booking.com/hotel/us/sunbelt-lodge...  \n",
       "866144  https://www.booking.com/hotel/us/budget-inn-am...  \n",
       "866145  http://bestwesternlouisiana.com/hotels/best-we...  \n",
       "866146  https://www.motel6.com/content/g6/motel6/motel...  \n",
       "866147                http://www.executiveinnexpress.com/  "
      ]
     },
     "execution_count": 12,
     "metadata": {},
     "output_type": "execute_result"
    }
   ],
   "source": [
    "usa_hotels.head()"
   ]
  },
  {
   "cell_type": "code",
   "execution_count": 15,
   "id": "fdc76c3c",
   "metadata": {},
   "outputs": [],
   "source": [
    "# Strip leading/trailing spaces from column names\n",
    "usa_hotels.columns = usa_hotels.columns.str.strip()\n",
    "\n",
    "# Drop the specified columns\n",
    "dropped_usa_hotel_columns = usa_hotels.drop(columns=['countyName', 'cityCode', 'Attractions', 'FaxNumber', 'HotelFacilities', 'Map', 'PhoneNumber', 'PinCode', 'HotelWebsiteUrl'])"
   ]
  },
  {
   "cell_type": "code",
   "execution_count": 16,
   "id": "a5581e41",
   "metadata": {},
   "outputs": [
    {
     "data": {
      "application/vnd.microsoft.datawrangler.viewer.v0+json": {
       "columns": [
        {
         "name": "index",
         "rawType": "int64",
         "type": "integer"
        },
        {
         "name": "countyCode",
         "rawType": "object",
         "type": "string"
        },
        {
         "name": "cityName",
         "rawType": "object",
         "type": "string"
        },
        {
         "name": "HotelCode",
         "rawType": "int64",
         "type": "integer"
        },
        {
         "name": "HotelName",
         "rawType": "object",
         "type": "string"
        },
        {
         "name": "HotelRating",
         "rawType": "object",
         "type": "string"
        },
        {
         "name": "Address",
         "rawType": "object",
         "type": "string"
        },
        {
         "name": "Description",
         "rawType": "object",
         "type": "string"
        }
       ],
       "conversionMethod": "pd.DataFrame",
       "ref": "fb7c8680-f2cd-486a-a740-d2f5cc217e07",
       "rows": [
        [
         "866143",
         "US",
         "Abbeville,   Louisiana",
         "1094195",
         "Sunbelt Lodge Motel",
         "TwoStar",
         "1903 Veterans Memorial Drive AbbevilleLouisiana 70510 ",
         "Sunbelt Lodge Motel is a 2-star property situated in Abbeville. Featuring a shared lounge, the 2-star motel has air-conditioned rooms with free WiFi, each with a private bathroom. The motel has family rooms.\n\nAt the motel rooms have a desk and a flat-screen TV.\n\nGuests at Sunbelt Lodge Motel can enjoy a continental breakfast.\n\nThe reception at the accommodation can provide tips on the area.\n\nLafayette is 35 km from Sunbelt Lodge Motel. The nearest airport is Lafayette Airport, 38 km from the motel. Guests are required to show a photo identification and credit card upon check-in. Please note that all Special Requests are subject to availability and additional charges may apply.\nSwimming pool #1 is closed from Tue 01 Dec 2020 until Sat 01 May 2021"
        ],
        [
         "866144",
         "US",
         "Abbeville,   Louisiana",
         "1125999",
         "Budget Inn & Suites",
         "TwoStar",
         "2115 Charity Street AbbevilleLouisiana 70510 ",
         "Offering a free continental breakfast and an outdoor pool, Budget Inn & Suites is located in Abbeville. Free WiFi access is available. Each room here will provide you with a TV and air conditioning. Complete with a microwave, the dining area also has a refrigerator. Featuring a shower, private bathroom also comes with a bath and free toiletries. You can enjoy pool view from the room. Extras include a desk and bed linen.\n\nAt Budget Inn & Suites you will find a hot tub, a 24-hour front desk and barbecue facilities. Other facilities offered at the property include laundry facilities and a vending machine. The property offers free parking. Guests are required to show a photo identification and credit card upon check-in. Please note that all Special Requests are subject to availability and additional charges may apply.\nA damage deposit of USD 10 is required on arrival. This will be collected as a cash payment. You should be reimbursed on check-out. Your deposit will be refunded in full in cash, subject to an inspection of the property."
        ],
        [
         "866145",
         "US",
         "Abbeville,   Louisiana",
         "1179258",
         "Best Western Abbeville Inn & Suites",
         "TwoStar",
         "3515 Veterans Memorial Dr Abbeville AbbevilleLouisiana 70510 ",
         "<p>HeadLine : Near Abbeville General Hospital</p><p>Location : When you stay at Best Western Abbeville Inn & Suites in Abbeville, you ll be near the airport and within a 5-minute drive of Abbeville General Hospital.  This hotel is 22.2 mi (35.7 km) from Cajundome and 22.9 mi (36.8 km) from University of Louisiana at Lafayette.</p><p>Rooms : Make yourself at home in one of the 58 air-conditioned rooms featuring refrigerators and flat-screen televisions. Your room comes with a pillowtop bed. Complimentary wired and wireless Internet access keeps you connected, and cable programming provides entertainment. Private bathrooms have hair dryers and toothbrushes and toothpaste.</p><p>Dining : A complimentary buffet breakfast is served on weekdays from 6:00 AM to 9:00 AM and on weekends from 7:00 AM to 10:00 AM.</p><p>CheckIn Instructions : <ul>  <li>Extra-person charges may apply and vary depending on property policy</li><li>Government-issued photo identification and a credit card, debit card, or cash deposit may be required at check-in for incidental charges</li><li>Special requests are subject to availability upon check-in and may incur additional charges; special requests cannot be guaranteed</li><li>This property accepts credit cards, debit cards, and cash</li>  </ul></p><p>Special Instructions : Front desk staff will greet guests on arrival.</p>"
        ],
        [
         "866146",
         "US",
         "Abbeville,   Louisiana",
         "1250024",
         "Motel 6 Abbeville LA",
         "TwoStar",
         "3523 Veterans Memorial Drive AbbevilleLouisiana 70510 ",
         "<p>HeadLine : Near Abbeville General Hospital</p><p>Location : Located in Abbeville, Motel 6 Abbeville, LA is in the historical district, within a 15-minute drive of Abbeville General Hospital and Rip s Rookery.  This motel is 22.3 mi (35.8 km) from Cajundome and 22.9 mi (36.9 km) from University of Louisiana at Lafayette.</p><p>Rooms : Make yourself at home in one of the 53 guestrooms featuring refrigerators and microwaves. 32-inch flat-screen televisions with cable programming provide entertainment, while complimentary wireless Internet access keeps you connected. Bathrooms have shower/tub combinations and hair dryers. Conveniences include desks and blackout drapes/curtains, as well as phones with free local calls.</p><p>Dining : Grab a bite from the snack bar/deli serving guests of Motel 6 Abbeville, LA.</p><p>Renovations : The following facilities or services will be unavailable from May 22 2023 to May 1 2024 (dates subject to change): <ul><li>Swimming pool</li></ul></p><p>CheckIn Instructions : <ul>  <li>Extra-person charges may apply and vary depending on property policy</li><li>Government-issued photo identification and a credit card may be required at check-in for incidental charges</li><li>Special requests are subject to availability upon check-in and may incur additional charges; special requests cannot be guaranteed</li><li>The name on the credit card used at check-in to pay for incidentals must be the primary name on the guestroom reservation</li><li>This property accepts credit cards, debit cards, and cash</li>  </ul></p><p>Special Instructions : Front desk staff will greet guests on arrival.</p>"
        ],
        [
         "866147",
         "US",
         "Abbeville,   Louisiana",
         "1366117",
         "Days Inn by Wyndham Abbeville",
         "TwoStar",
         "730 Veterans Memorial Dr AbbevilleLouisiana 70510 ",
         "<p>HeadLine : Near Abbeville General Hospital</p><p>Location : A stay at Days Inn by Wyndham Abbeville places you in the heart of Abbeville, and within a 5-minute drive of Abbeville General Hospital.  This hotel is 19.1 mi (30.7 km) from University of Louisiana at Lafayette and 19.6 mi (31.6 km) from Cajundome.</p><p>Rooms : Make yourself at home in one of the 40 guestrooms featuring refrigerators and LED televisions. Rooms have private balconies. Complimentary wired and wireless Internet access keeps you connected, and cable programming provides entertainment. Private bathrooms with shower/tub combinations feature deep soaking bathtubs and complimentary toiletries.</p><p>Dining : Take advantage of the hotel s 24-hour room service. A complimentary on-the-go breakfast is served daily from 6 AM to 9 AM.</p><p>CheckIn Instructions : <ul>  <li>Extra-person charges may apply and vary depending on property policy</li><li>Government-issued photo identification and a credit card, debit card, or cash deposit may be required at check-in for incidental charges</li><li>Special requests are subject to availability upon check-in and may incur additional charges; special requests cannot be guaranteed</li><li>This property accepts credit cards; cash is not accepted</li>  </ul></p><p>Special Instructions : This property doesn t offer after-hours check-in. Front desk staff will greet guests on arrival.</p>"
        ]
       ],
       "shape": {
        "columns": 7,
        "rows": 5
       }
      },
      "text/html": [
       "<div>\n",
       "<style scoped>\n",
       "    .dataframe tbody tr th:only-of-type {\n",
       "        vertical-align: middle;\n",
       "    }\n",
       "\n",
       "    .dataframe tbody tr th {\n",
       "        vertical-align: top;\n",
       "    }\n",
       "\n",
       "    .dataframe thead th {\n",
       "        text-align: right;\n",
       "    }\n",
       "</style>\n",
       "<table border=\"1\" class=\"dataframe\">\n",
       "  <thead>\n",
       "    <tr style=\"text-align: right;\">\n",
       "      <th></th>\n",
       "      <th>countyCode</th>\n",
       "      <th>cityName</th>\n",
       "      <th>HotelCode</th>\n",
       "      <th>HotelName</th>\n",
       "      <th>HotelRating</th>\n",
       "      <th>Address</th>\n",
       "      <th>Description</th>\n",
       "    </tr>\n",
       "  </thead>\n",
       "  <tbody>\n",
       "    <tr>\n",
       "      <th>866143</th>\n",
       "      <td>US</td>\n",
       "      <td>Abbeville,   Louisiana</td>\n",
       "      <td>1094195</td>\n",
       "      <td>Sunbelt Lodge Motel</td>\n",
       "      <td>TwoStar</td>\n",
       "      <td>1903 Veterans Memorial Drive AbbevilleLouisian...</td>\n",
       "      <td>Sunbelt Lodge Motel is a 2-star property situa...</td>\n",
       "    </tr>\n",
       "    <tr>\n",
       "      <th>866144</th>\n",
       "      <td>US</td>\n",
       "      <td>Abbeville,   Louisiana</td>\n",
       "      <td>1125999</td>\n",
       "      <td>Budget Inn &amp; Suites</td>\n",
       "      <td>TwoStar</td>\n",
       "      <td>2115 Charity Street AbbevilleLouisiana 70510</td>\n",
       "      <td>Offering a free continental breakfast and an o...</td>\n",
       "    </tr>\n",
       "    <tr>\n",
       "      <th>866145</th>\n",
       "      <td>US</td>\n",
       "      <td>Abbeville,   Louisiana</td>\n",
       "      <td>1179258</td>\n",
       "      <td>Best Western Abbeville Inn &amp; Suites</td>\n",
       "      <td>TwoStar</td>\n",
       "      <td>3515 Veterans Memorial Dr Abbeville AbbevilleL...</td>\n",
       "      <td>&lt;p&gt;HeadLine : Near Abbeville General Hospital&lt;...</td>\n",
       "    </tr>\n",
       "    <tr>\n",
       "      <th>866146</th>\n",
       "      <td>US</td>\n",
       "      <td>Abbeville,   Louisiana</td>\n",
       "      <td>1250024</td>\n",
       "      <td>Motel 6 Abbeville LA</td>\n",
       "      <td>TwoStar</td>\n",
       "      <td>3523 Veterans Memorial Drive AbbevilleLouisian...</td>\n",
       "      <td>&lt;p&gt;HeadLine : Near Abbeville General Hospital&lt;...</td>\n",
       "    </tr>\n",
       "    <tr>\n",
       "      <th>866147</th>\n",
       "      <td>US</td>\n",
       "      <td>Abbeville,   Louisiana</td>\n",
       "      <td>1366117</td>\n",
       "      <td>Days Inn by Wyndham Abbeville</td>\n",
       "      <td>TwoStar</td>\n",
       "      <td>730 Veterans Memorial Dr AbbevilleLouisiana 70...</td>\n",
       "      <td>&lt;p&gt;HeadLine : Near Abbeville General Hospital&lt;...</td>\n",
       "    </tr>\n",
       "  </tbody>\n",
       "</table>\n",
       "</div>"
      ],
      "text/plain": [
       "       countyCode                cityName  HotelCode  \\\n",
       "866143         US  Abbeville,   Louisiana    1094195   \n",
       "866144         US  Abbeville,   Louisiana    1125999   \n",
       "866145         US  Abbeville,   Louisiana    1179258   \n",
       "866146         US  Abbeville,   Louisiana    1250024   \n",
       "866147         US  Abbeville,   Louisiana    1366117   \n",
       "\n",
       "                                  HotelName HotelRating  \\\n",
       "866143                  Sunbelt Lodge Motel     TwoStar   \n",
       "866144                  Budget Inn & Suites     TwoStar   \n",
       "866145  Best Western Abbeville Inn & Suites     TwoStar   \n",
       "866146                 Motel 6 Abbeville LA     TwoStar   \n",
       "866147        Days Inn by Wyndham Abbeville     TwoStar   \n",
       "\n",
       "                                                  Address  \\\n",
       "866143  1903 Veterans Memorial Drive AbbevilleLouisian...   \n",
       "866144      2115 Charity Street AbbevilleLouisiana 70510    \n",
       "866145  3515 Veterans Memorial Dr Abbeville AbbevilleL...   \n",
       "866146  3523 Veterans Memorial Drive AbbevilleLouisian...   \n",
       "866147  730 Veterans Memorial Dr AbbevilleLouisiana 70...   \n",
       "\n",
       "                                              Description  \n",
       "866143  Sunbelt Lodge Motel is a 2-star property situa...  \n",
       "866144  Offering a free continental breakfast and an o...  \n",
       "866145  <p>HeadLine : Near Abbeville General Hospital<...  \n",
       "866146  <p>HeadLine : Near Abbeville General Hospital<...  \n",
       "866147  <p>HeadLine : Near Abbeville General Hospital<...  "
      ]
     },
     "execution_count": 16,
     "metadata": {},
     "output_type": "execute_result"
    }
   ],
   "source": [
    "dropped_usa_hotel_columns.head()"
   ]
  },
  {
   "cell_type": "code",
   "execution_count": 17,
   "id": "e2236326",
   "metadata": {},
   "outputs": [
    {
     "data": {
      "application/vnd.microsoft.datawrangler.viewer.v0+json": {
       "columns": [
        {
         "name": "index",
         "rawType": "int64",
         "type": "integer"
        },
        {
         "name": "cityName",
         "rawType": "object",
         "type": "string"
        },
        {
         "name": "City",
         "rawType": "object",
         "type": "string"
        },
        {
         "name": "State",
         "rawType": "object",
         "type": "string"
        }
       ],
       "conversionMethod": "pd.DataFrame",
       "ref": "2b1eb4be-f83e-4f72-b799-193ab621479c",
       "rows": [
        [
         "866143",
         "Abbeville,   Louisiana",
         "Abbeville",
         "Louisiana"
        ],
        [
         "866144",
         "Abbeville,   Louisiana",
         "Abbeville",
         "Louisiana"
        ],
        [
         "866145",
         "Abbeville,   Louisiana",
         "Abbeville",
         "Louisiana"
        ],
        [
         "866146",
         "Abbeville,   Louisiana",
         "Abbeville",
         "Louisiana"
        ],
        [
         "866147",
         "Abbeville,   Louisiana",
         "Abbeville",
         "Louisiana"
        ]
       ],
       "shape": {
        "columns": 3,
        "rows": 5
       }
      },
      "text/html": [
       "<div>\n",
       "<style scoped>\n",
       "    .dataframe tbody tr th:only-of-type {\n",
       "        vertical-align: middle;\n",
       "    }\n",
       "\n",
       "    .dataframe tbody tr th {\n",
       "        vertical-align: top;\n",
       "    }\n",
       "\n",
       "    .dataframe thead th {\n",
       "        text-align: right;\n",
       "    }\n",
       "</style>\n",
       "<table border=\"1\" class=\"dataframe\">\n",
       "  <thead>\n",
       "    <tr style=\"text-align: right;\">\n",
       "      <th></th>\n",
       "      <th>cityName</th>\n",
       "      <th>City</th>\n",
       "      <th>State</th>\n",
       "    </tr>\n",
       "  </thead>\n",
       "  <tbody>\n",
       "    <tr>\n",
       "      <th>866143</th>\n",
       "      <td>Abbeville,   Louisiana</td>\n",
       "      <td>Abbeville</td>\n",
       "      <td>Louisiana</td>\n",
       "    </tr>\n",
       "    <tr>\n",
       "      <th>866144</th>\n",
       "      <td>Abbeville,   Louisiana</td>\n",
       "      <td>Abbeville</td>\n",
       "      <td>Louisiana</td>\n",
       "    </tr>\n",
       "    <tr>\n",
       "      <th>866145</th>\n",
       "      <td>Abbeville,   Louisiana</td>\n",
       "      <td>Abbeville</td>\n",
       "      <td>Louisiana</td>\n",
       "    </tr>\n",
       "    <tr>\n",
       "      <th>866146</th>\n",
       "      <td>Abbeville,   Louisiana</td>\n",
       "      <td>Abbeville</td>\n",
       "      <td>Louisiana</td>\n",
       "    </tr>\n",
       "    <tr>\n",
       "      <th>866147</th>\n",
       "      <td>Abbeville,   Louisiana</td>\n",
       "      <td>Abbeville</td>\n",
       "      <td>Louisiana</td>\n",
       "    </tr>\n",
       "  </tbody>\n",
       "</table>\n",
       "</div>"
      ],
      "text/plain": [
       "                      cityName       City      State\n",
       "866143  Abbeville,   Louisiana  Abbeville  Louisiana\n",
       "866144  Abbeville,   Louisiana  Abbeville  Louisiana\n",
       "866145  Abbeville,   Louisiana  Abbeville  Louisiana\n",
       "866146  Abbeville,   Louisiana  Abbeville  Louisiana\n",
       "866147  Abbeville,   Louisiana  Abbeville  Louisiana"
      ]
     },
     "execution_count": 17,
     "metadata": {},
     "output_type": "execute_result"
    }
   ],
   "source": [
    "dropped_usa_hotel_columns[['City', 'State']] = dropped_usa_hotel_columns['cityName'].str.split(',', n=1, expand=True)\n",
    "dropped_usa_hotel_columns['City'] = dropped_usa_hotel_columns['City'].str.strip()\n",
    "dropped_usa_hotel_columns['State'] = dropped_usa_hotel_columns['State'].str.strip()\n",
    "\n",
    "dropped_usa_hotel_columns[['cityName', 'City', 'State']].head()\n"
   ]
  },
  {
   "cell_type": "code",
   "execution_count": 18,
   "id": "5fb7a67a",
   "metadata": {},
   "outputs": [
    {
     "data": {
      "application/vnd.microsoft.datawrangler.viewer.v0+json": {
       "columns": [
        {
         "name": "index",
         "rawType": "int64",
         "type": "integer"
        },
        {
         "name": "countyCode",
         "rawType": "object",
         "type": "string"
        },
        {
         "name": "HotelCode",
         "rawType": "int64",
         "type": "integer"
        },
        {
         "name": "HotelName",
         "rawType": "object",
         "type": "string"
        },
        {
         "name": "HotelRating",
         "rawType": "object",
         "type": "string"
        },
        {
         "name": "Address",
         "rawType": "object",
         "type": "string"
        },
        {
         "name": "Description",
         "rawType": "object",
         "type": "string"
        },
        {
         "name": "City",
         "rawType": "object",
         "type": "string"
        },
        {
         "name": "State",
         "rawType": "object",
         "type": "string"
        }
       ],
       "conversionMethod": "pd.DataFrame",
       "ref": "c6fc4e48-f3a0-4e2b-ae69-b23435cc82a1",
       "rows": [
        [
         "866143",
         "US",
         "1094195",
         "Sunbelt Lodge Motel",
         "TwoStar",
         "1903 Veterans Memorial Drive AbbevilleLouisiana 70510 ",
         "Sunbelt Lodge Motel is a 2-star property situated in Abbeville. Featuring a shared lounge, the 2-star motel has air-conditioned rooms with free WiFi, each with a private bathroom. The motel has family rooms.\n\nAt the motel rooms have a desk and a flat-screen TV.\n\nGuests at Sunbelt Lodge Motel can enjoy a continental breakfast.\n\nThe reception at the accommodation can provide tips on the area.\n\nLafayette is 35 km from Sunbelt Lodge Motel. The nearest airport is Lafayette Airport, 38 km from the motel. Guests are required to show a photo identification and credit card upon check-in. Please note that all Special Requests are subject to availability and additional charges may apply.\nSwimming pool #1 is closed from Tue 01 Dec 2020 until Sat 01 May 2021",
         "Abbeville",
         "Louisiana"
        ],
        [
         "866144",
         "US",
         "1125999",
         "Budget Inn & Suites",
         "TwoStar",
         "2115 Charity Street AbbevilleLouisiana 70510 ",
         "Offering a free continental breakfast and an outdoor pool, Budget Inn & Suites is located in Abbeville. Free WiFi access is available. Each room here will provide you with a TV and air conditioning. Complete with a microwave, the dining area also has a refrigerator. Featuring a shower, private bathroom also comes with a bath and free toiletries. You can enjoy pool view from the room. Extras include a desk and bed linen.\n\nAt Budget Inn & Suites you will find a hot tub, a 24-hour front desk and barbecue facilities. Other facilities offered at the property include laundry facilities and a vending machine. The property offers free parking. Guests are required to show a photo identification and credit card upon check-in. Please note that all Special Requests are subject to availability and additional charges may apply.\nA damage deposit of USD 10 is required on arrival. This will be collected as a cash payment. You should be reimbursed on check-out. Your deposit will be refunded in full in cash, subject to an inspection of the property.",
         "Abbeville",
         "Louisiana"
        ],
        [
         "866145",
         "US",
         "1179258",
         "Best Western Abbeville Inn & Suites",
         "TwoStar",
         "3515 Veterans Memorial Dr Abbeville AbbevilleLouisiana 70510 ",
         "<p>HeadLine : Near Abbeville General Hospital</p><p>Location : When you stay at Best Western Abbeville Inn & Suites in Abbeville, you ll be near the airport and within a 5-minute drive of Abbeville General Hospital.  This hotel is 22.2 mi (35.7 km) from Cajundome and 22.9 mi (36.8 km) from University of Louisiana at Lafayette.</p><p>Rooms : Make yourself at home in one of the 58 air-conditioned rooms featuring refrigerators and flat-screen televisions. Your room comes with a pillowtop bed. Complimentary wired and wireless Internet access keeps you connected, and cable programming provides entertainment. Private bathrooms have hair dryers and toothbrushes and toothpaste.</p><p>Dining : A complimentary buffet breakfast is served on weekdays from 6:00 AM to 9:00 AM and on weekends from 7:00 AM to 10:00 AM.</p><p>CheckIn Instructions : <ul>  <li>Extra-person charges may apply and vary depending on property policy</li><li>Government-issued photo identification and a credit card, debit card, or cash deposit may be required at check-in for incidental charges</li><li>Special requests are subject to availability upon check-in and may incur additional charges; special requests cannot be guaranteed</li><li>This property accepts credit cards, debit cards, and cash</li>  </ul></p><p>Special Instructions : Front desk staff will greet guests on arrival.</p>",
         "Abbeville",
         "Louisiana"
        ],
        [
         "866146",
         "US",
         "1250024",
         "Motel 6 Abbeville LA",
         "TwoStar",
         "3523 Veterans Memorial Drive AbbevilleLouisiana 70510 ",
         "<p>HeadLine : Near Abbeville General Hospital</p><p>Location : Located in Abbeville, Motel 6 Abbeville, LA is in the historical district, within a 15-minute drive of Abbeville General Hospital and Rip s Rookery.  This motel is 22.3 mi (35.8 km) from Cajundome and 22.9 mi (36.9 km) from University of Louisiana at Lafayette.</p><p>Rooms : Make yourself at home in one of the 53 guestrooms featuring refrigerators and microwaves. 32-inch flat-screen televisions with cable programming provide entertainment, while complimentary wireless Internet access keeps you connected. Bathrooms have shower/tub combinations and hair dryers. Conveniences include desks and blackout drapes/curtains, as well as phones with free local calls.</p><p>Dining : Grab a bite from the snack bar/deli serving guests of Motel 6 Abbeville, LA.</p><p>Renovations : The following facilities or services will be unavailable from May 22 2023 to May 1 2024 (dates subject to change): <ul><li>Swimming pool</li></ul></p><p>CheckIn Instructions : <ul>  <li>Extra-person charges may apply and vary depending on property policy</li><li>Government-issued photo identification and a credit card may be required at check-in for incidental charges</li><li>Special requests are subject to availability upon check-in and may incur additional charges; special requests cannot be guaranteed</li><li>The name on the credit card used at check-in to pay for incidentals must be the primary name on the guestroom reservation</li><li>This property accepts credit cards, debit cards, and cash</li>  </ul></p><p>Special Instructions : Front desk staff will greet guests on arrival.</p>",
         "Abbeville",
         "Louisiana"
        ],
        [
         "866147",
         "US",
         "1366117",
         "Days Inn by Wyndham Abbeville",
         "TwoStar",
         "730 Veterans Memorial Dr AbbevilleLouisiana 70510 ",
         "<p>HeadLine : Near Abbeville General Hospital</p><p>Location : A stay at Days Inn by Wyndham Abbeville places you in the heart of Abbeville, and within a 5-minute drive of Abbeville General Hospital.  This hotel is 19.1 mi (30.7 km) from University of Louisiana at Lafayette and 19.6 mi (31.6 km) from Cajundome.</p><p>Rooms : Make yourself at home in one of the 40 guestrooms featuring refrigerators and LED televisions. Rooms have private balconies. Complimentary wired and wireless Internet access keeps you connected, and cable programming provides entertainment. Private bathrooms with shower/tub combinations feature deep soaking bathtubs and complimentary toiletries.</p><p>Dining : Take advantage of the hotel s 24-hour room service. A complimentary on-the-go breakfast is served daily from 6 AM to 9 AM.</p><p>CheckIn Instructions : <ul>  <li>Extra-person charges may apply and vary depending on property policy</li><li>Government-issued photo identification and a credit card, debit card, or cash deposit may be required at check-in for incidental charges</li><li>Special requests are subject to availability upon check-in and may incur additional charges; special requests cannot be guaranteed</li><li>This property accepts credit cards; cash is not accepted</li>  </ul></p><p>Special Instructions : This property doesn t offer after-hours check-in. Front desk staff will greet guests on arrival.</p>",
         "Abbeville",
         "Louisiana"
        ]
       ],
       "shape": {
        "columns": 8,
        "rows": 5
       }
      },
      "text/html": [
       "<div>\n",
       "<style scoped>\n",
       "    .dataframe tbody tr th:only-of-type {\n",
       "        vertical-align: middle;\n",
       "    }\n",
       "\n",
       "    .dataframe tbody tr th {\n",
       "        vertical-align: top;\n",
       "    }\n",
       "\n",
       "    .dataframe thead th {\n",
       "        text-align: right;\n",
       "    }\n",
       "</style>\n",
       "<table border=\"1\" class=\"dataframe\">\n",
       "  <thead>\n",
       "    <tr style=\"text-align: right;\">\n",
       "      <th></th>\n",
       "      <th>countyCode</th>\n",
       "      <th>HotelCode</th>\n",
       "      <th>HotelName</th>\n",
       "      <th>HotelRating</th>\n",
       "      <th>Address</th>\n",
       "      <th>Description</th>\n",
       "      <th>City</th>\n",
       "      <th>State</th>\n",
       "    </tr>\n",
       "  </thead>\n",
       "  <tbody>\n",
       "    <tr>\n",
       "      <th>866143</th>\n",
       "      <td>US</td>\n",
       "      <td>1094195</td>\n",
       "      <td>Sunbelt Lodge Motel</td>\n",
       "      <td>TwoStar</td>\n",
       "      <td>1903 Veterans Memorial Drive AbbevilleLouisian...</td>\n",
       "      <td>Sunbelt Lodge Motel is a 2-star property situa...</td>\n",
       "      <td>Abbeville</td>\n",
       "      <td>Louisiana</td>\n",
       "    </tr>\n",
       "    <tr>\n",
       "      <th>866144</th>\n",
       "      <td>US</td>\n",
       "      <td>1125999</td>\n",
       "      <td>Budget Inn &amp; Suites</td>\n",
       "      <td>TwoStar</td>\n",
       "      <td>2115 Charity Street AbbevilleLouisiana 70510</td>\n",
       "      <td>Offering a free continental breakfast and an o...</td>\n",
       "      <td>Abbeville</td>\n",
       "      <td>Louisiana</td>\n",
       "    </tr>\n",
       "    <tr>\n",
       "      <th>866145</th>\n",
       "      <td>US</td>\n",
       "      <td>1179258</td>\n",
       "      <td>Best Western Abbeville Inn &amp; Suites</td>\n",
       "      <td>TwoStar</td>\n",
       "      <td>3515 Veterans Memorial Dr Abbeville AbbevilleL...</td>\n",
       "      <td>&lt;p&gt;HeadLine : Near Abbeville General Hospital&lt;...</td>\n",
       "      <td>Abbeville</td>\n",
       "      <td>Louisiana</td>\n",
       "    </tr>\n",
       "    <tr>\n",
       "      <th>866146</th>\n",
       "      <td>US</td>\n",
       "      <td>1250024</td>\n",
       "      <td>Motel 6 Abbeville LA</td>\n",
       "      <td>TwoStar</td>\n",
       "      <td>3523 Veterans Memorial Drive AbbevilleLouisian...</td>\n",
       "      <td>&lt;p&gt;HeadLine : Near Abbeville General Hospital&lt;...</td>\n",
       "      <td>Abbeville</td>\n",
       "      <td>Louisiana</td>\n",
       "    </tr>\n",
       "    <tr>\n",
       "      <th>866147</th>\n",
       "      <td>US</td>\n",
       "      <td>1366117</td>\n",
       "      <td>Days Inn by Wyndham Abbeville</td>\n",
       "      <td>TwoStar</td>\n",
       "      <td>730 Veterans Memorial Dr AbbevilleLouisiana 70...</td>\n",
       "      <td>&lt;p&gt;HeadLine : Near Abbeville General Hospital&lt;...</td>\n",
       "      <td>Abbeville</td>\n",
       "      <td>Louisiana</td>\n",
       "    </tr>\n",
       "  </tbody>\n",
       "</table>\n",
       "</div>"
      ],
      "text/plain": [
       "       countyCode  HotelCode                            HotelName HotelRating  \\\n",
       "866143         US    1094195                  Sunbelt Lodge Motel     TwoStar   \n",
       "866144         US    1125999                  Budget Inn & Suites     TwoStar   \n",
       "866145         US    1179258  Best Western Abbeville Inn & Suites     TwoStar   \n",
       "866146         US    1250024                 Motel 6 Abbeville LA     TwoStar   \n",
       "866147         US    1366117        Days Inn by Wyndham Abbeville     TwoStar   \n",
       "\n",
       "                                                  Address  \\\n",
       "866143  1903 Veterans Memorial Drive AbbevilleLouisian...   \n",
       "866144      2115 Charity Street AbbevilleLouisiana 70510    \n",
       "866145  3515 Veterans Memorial Dr Abbeville AbbevilleL...   \n",
       "866146  3523 Veterans Memorial Drive AbbevilleLouisian...   \n",
       "866147  730 Veterans Memorial Dr AbbevilleLouisiana 70...   \n",
       "\n",
       "                                              Description       City  \\\n",
       "866143  Sunbelt Lodge Motel is a 2-star property situa...  Abbeville   \n",
       "866144  Offering a free continental breakfast and an o...  Abbeville   \n",
       "866145  <p>HeadLine : Near Abbeville General Hospital<...  Abbeville   \n",
       "866146  <p>HeadLine : Near Abbeville General Hospital<...  Abbeville   \n",
       "866147  <p>HeadLine : Near Abbeville General Hospital<...  Abbeville   \n",
       "\n",
       "            State  \n",
       "866143  Louisiana  \n",
       "866144  Louisiana  \n",
       "866145  Louisiana  \n",
       "866146  Louisiana  \n",
       "866147  Louisiana  "
      ]
     },
     "execution_count": 18,
     "metadata": {},
     "output_type": "execute_result"
    }
   ],
   "source": [
    "dropped_usa_hotel_columns.drop(columns=['cityName'], inplace=True)\n",
    "dropped_usa_hotel_columns.head()"
   ]
  },
  {
   "cell_type": "code",
   "execution_count": 21,
   "id": "847736cb",
   "metadata": {},
   "outputs": [
    {
     "data": {
      "text/plain": [
       "array(['Louisiana', 'Wisconsin', 'Maryland', 'Mississippi',\n",
       "       'North Carolina', 'Washington', 'South Dakota', 'Kansas', 'Texas',\n",
       "       'Virginia', 'New Mexico', 'New Jersey', 'Michigan', 'New York',\n",
       "       'Georgia', 'Oklahoma', 'Iowa', 'Massachusetts', 'Illinois',\n",
       "       'California', 'Minnesota', 'South Carolina', 'Nebraska', 'Ohio',\n",
       "       'Alabama', 'Florida', 'Colorado', 'Kentucky', 'Oregon',\n",
       "       'New Hampshire', 'Tennessee', 'North Dakota', 'Pennsylvania',\n",
       "       'Wyoming', 'Utah', 'Nevada', 'Alaska', 'Indiana', 'Missouri',\n",
       "       'Arizona', 'Arkansas', 'Vermont', 'Idaho', 'Connecticut',\n",
       "       'Montana', 'West Virginia', 'Delaware', 'Hawaii', 'Rhode Island',\n",
       "       'Maine', None, 'Hawaii County,   Hawaii', 'District of Columbia',\n",
       "       'MISSOURI'], dtype=object)"
      ]
     },
     "execution_count": 21,
     "metadata": {},
     "output_type": "execute_result"
    }
   ],
   "source": [
    "dropped_usa_hotel_columns.State.unique()"
   ]
  },
  {
   "cell_type": "code",
   "execution_count": 25,
   "id": "e73183bb",
   "metadata": {},
   "outputs": [],
   "source": [
    "dropped_usa_hotel_columns.loc[dropped_usa_hotel_columns['State'] == 'Alabama', 'State'] = 'AL'"
   ]
  },
  {
   "cell_type": "code",
   "execution_count": 26,
   "id": "21d593bb",
   "metadata": {},
   "outputs": [],
   "source": [
    "dropped_usa_hotel_columns.loc[dropped_usa_hotel_columns['State'] == 'Alaska', 'State'] = 'AK'\n",
    "dropped_usa_hotel_columns.loc[dropped_usa_hotel_columns['State'] == 'Arizona', 'State'] = 'AZ'\n",
    "dropped_usa_hotel_columns.loc[dropped_usa_hotel_columns['State'] == 'Arkansas', 'State'] = 'AR'\n",
    "dropped_usa_hotel_columns.loc[dropped_usa_hotel_columns['State'] == 'California', 'State'] = 'CA'\n",
    "dropped_usa_hotel_columns.loc[dropped_usa_hotel_columns['State'] == 'Colorado', 'State'] = 'CO'\n",
    "dropped_usa_hotel_columns.loc[dropped_usa_hotel_columns['State'] == 'Connecticut', 'State'] = 'CT'\n",
    "dropped_usa_hotel_columns.loc[dropped_usa_hotel_columns['State'] == 'Delaware', 'State'] = 'DE'\n",
    "dropped_usa_hotel_columns.loc[dropped_usa_hotel_columns['State'] == 'District of Columbia', 'State'] = 'DC'\n",
    "dropped_usa_hotel_columns.loc[dropped_usa_hotel_columns['State'] == 'Florida', 'State'] = 'FL'\n",
    "dropped_usa_hotel_columns.loc[dropped_usa_hotel_columns['State'] == 'Georgia', 'State'] = 'GA'\n",
    "dropped_usa_hotel_columns.loc[dropped_usa_hotel_columns['State'] == 'Hawaii', 'State'] = 'HI'\n",
    "dropped_usa_hotel_columns.loc[dropped_usa_hotel_columns['State'] == 'Idaho', 'State'] = 'ID'\n",
    "dropped_usa_hotel_columns.loc[dropped_usa_hotel_columns['State'] == 'Illinois', 'State'] = 'IL'\n",
    "dropped_usa_hotel_columns.loc[dropped_usa_hotel_columns['State'] == 'Indiana', 'State'] = 'IN'\n",
    "dropped_usa_hotel_columns.loc[dropped_usa_hotel_columns['State'] == 'Iowa', 'State'] = 'IA'\n",
    "dropped_usa_hotel_columns.loc[dropped_usa_hotel_columns['State'] == 'Kansas', 'State'] = 'KS'\n",
    "dropped_usa_hotel_columns.loc[dropped_usa_hotel_columns['State'] == 'Kentucky', 'State'] = 'KY'\n",
    "dropped_usa_hotel_columns.loc[dropped_usa_hotel_columns['State'] == 'Louisiana', 'State'] = 'LA'\n",
    "dropped_usa_hotel_columns.loc[dropped_usa_hotel_columns['State'] == 'Maine', 'State'] = 'ME'\n",
    "dropped_usa_hotel_columns.loc[dropped_usa_hotel_columns['State'] == 'Maryland', 'State'] = 'MD'\n",
    "dropped_usa_hotel_columns.loc[dropped_usa_hotel_columns['State'] == 'Massachusetts', 'State'] = 'MA'\n",
    "dropped_usa_hotel_columns.loc[dropped_usa_hotel_columns['State'] == 'Michigan', 'State'] = 'MI'\n",
    "dropped_usa_hotel_columns.loc[dropped_usa_hotel_columns['State'] == 'Minnesota', 'State'] = 'MN'\n",
    "dropped_usa_hotel_columns.loc[dropped_usa_hotel_columns['State'] == 'Mississippi', 'State'] = 'MS'\n",
    "dropped_usa_hotel_columns.loc[dropped_usa_hotel_columns['State'] == 'Missouri', 'State'] = 'MO'\n",
    "dropped_usa_hotel_columns.loc[dropped_usa_hotel_columns['State'] == 'Montana', 'State'] = 'MT'\n",
    "dropped_usa_hotel_columns.loc[dropped_usa_hotel_columns['State'] == 'Nebraska', 'State'] = 'NE'\n",
    "dropped_usa_hotel_columns.loc[dropped_usa_hotel_columns['State'] == 'Nevada', 'State'] = 'NV'\n",
    "dropped_usa_hotel_columns.loc[dropped_usa_hotel_columns['State'] == 'New Hampshire', 'State'] = 'NH'\n",
    "dropped_usa_hotel_columns.loc[dropped_usa_hotel_columns['State'] == 'New Jersey', 'State'] = 'NJ'\n",
    "dropped_usa_hotel_columns.loc[dropped_usa_hotel_columns['State'] == 'New Mexico', 'State'] = 'NM'\n",
    "dropped_usa_hotel_columns.loc[dropped_usa_hotel_columns['State'] == 'New York', 'State'] = 'NY'\n",
    "dropped_usa_hotel_columns.loc[dropped_usa_hotel_columns['State'] == 'North Carolina', 'State'] = 'NC'\n",
    "dropped_usa_hotel_columns.loc[dropped_usa_hotel_columns['State'] == 'North Dakota', 'State'] = 'ND'\n",
    "dropped_usa_hotel_columns.loc[dropped_usa_hotel_columns['State'] == 'Ohio', 'State'] = 'OH'\n",
    "dropped_usa_hotel_columns.loc[dropped_usa_hotel_columns['State'] == 'Oklahoma', 'State'] = 'OK'\n",
    "dropped_usa_hotel_columns.loc[dropped_usa_hotel_columns['State'] == 'Oregon', 'State'] = 'OR'\n",
    "dropped_usa_hotel_columns.loc[dropped_usa_hotel_columns['State'] == 'Pennsylvania', 'State'] = 'PA'\n",
    "dropped_usa_hotel_columns.loc[dropped_usa_hotel_columns['State'] == 'Rhode Island', 'State'] = 'RI'\n",
    "dropped_usa_hotel_columns.loc[dropped_usa_hotel_columns['State'] == 'South Carolina', 'State'] = 'SC'\n",
    "dropped_usa_hotel_columns.loc[dropped_usa_hotel_columns['State'] == 'South Dakota', 'State'] = 'SD'\n",
    "dropped_usa_hotel_columns.loc[dropped_usa_hotel_columns['State'] == 'Tennessee', 'State'] = 'TN'\n",
    "dropped_usa_hotel_columns.loc[dropped_usa_hotel_columns['State'] == 'Texas', 'State'] = 'TX'\n",
    "dropped_usa_hotel_columns.loc[dropped_usa_hotel_columns['State'] == 'Utah', 'State'] = 'UT'\n",
    "dropped_usa_hotel_columns.loc[dropped_usa_hotel_columns['State'] == 'Vermont', 'State'] = 'VT'\n",
    "dropped_usa_hotel_columns.loc[dropped_usa_hotel_columns['State'] == 'Virginia', 'State'] = 'VA'\n",
    "dropped_usa_hotel_columns.loc[dropped_usa_hotel_columns['State'] == 'Washington', 'State'] = 'WA'\n",
    "dropped_usa_hotel_columns.loc[dropped_usa_hotel_columns['State'] == 'West Virginia', 'State'] = 'WV'\n",
    "dropped_usa_hotel_columns.loc[dropped_usa_hotel_columns['State'] == 'Wisconsin', 'State'] = 'WI'\n",
    "dropped_usa_hotel_columns.loc[dropped_usa_hotel_columns['State'] == 'Wyoming', 'State'] = 'WY'"
   ]
  },
  {
   "cell_type": "code",
   "execution_count": 54,
   "id": "aa1e898a",
   "metadata": {},
   "outputs": [
    {
     "data": {
      "text/plain": [
       "array(['LA', 'WI', 'MD', 'MS', 'NC', 'WA', 'SD', 'KS', 'TX', 'VA', 'NM',\n",
       "       'NJ', 'MI', 'NY', 'GA', 'OK', 'IA', 'MA', 'IL', 'CA', 'MN', 'SC',\n",
       "       'NE', 'OH', 'AL', 'FL', 'CO', 'KY', 'OR', 'NH', 'TN', 'ND', 'PA',\n",
       "       'WY', 'UT', 'NV', 'AK', 'IN', 'MO', 'AZ', 'AR', 'VT', 'ID', 'CT',\n",
       "       'MT', 'WV', 'DE', 'HI', 'RI', 'ME', 'DC', 'Kansas'], dtype=object)"
      ]
     },
     "execution_count": 54,
     "metadata": {},
     "output_type": "execute_result"
    }
   ],
   "source": [
    "dropped_usa_hotel_columns.State.unique()"
   ]
  },
  {
   "cell_type": "code",
   "execution_count": 55,
   "id": "d67b58fe",
   "metadata": {},
   "outputs": [],
   "source": [
    "dropped_usa_hotel_columns.loc[dropped_usa_hotel_columns['State'] == 'Kansas', 'State'] = 'KS'"
   ]
  },
  {
   "cell_type": "code",
   "execution_count": 58,
   "id": "1fd57f5b",
   "metadata": {},
   "outputs": [
    {
     "data": {
      "text/plain": [
       "array(['TwoStar', 'ThreeStar', 'OneStar', 'All', 'FourStar', 'FiveStar'],\n",
       "      dtype=object)"
      ]
     },
     "execution_count": 58,
     "metadata": {},
     "output_type": "execute_result"
    }
   ],
   "source": [
    "dropped_usa_hotel_columns.HotelRating.unique()"
   ]
  },
  {
   "cell_type": "code",
   "execution_count": 60,
   "id": "09126a46",
   "metadata": {},
   "outputs": [
    {
     "data": {
      "text/plain": [
       "array([2, 3, 1, 'All', 4, 5], dtype=object)"
      ]
     },
     "execution_count": 60,
     "metadata": {},
     "output_type": "execute_result"
    }
   ],
   "source": [
    "dropped_usa_hotel_columns.loc[dropped_usa_hotel_columns['HotelRating'] == 'OneStar', 'HotelRating'] = 1\n",
    "dropped_usa_hotel_columns.loc[dropped_usa_hotel_columns['HotelRating'] == 'TwoStar', 'HotelRating'] = 2\n",
    "dropped_usa_hotel_columns.loc[dropped_usa_hotel_columns['HotelRating'] == 'ThreeStar', 'HotelRating'] = 3\n",
    "dropped_usa_hotel_columns.loc[dropped_usa_hotel_columns['HotelRating'] == 'FourStar', 'HotelRating'] = 4\n",
    "dropped_usa_hotel_columns.loc[dropped_usa_hotel_columns['HotelRating'] == 'FiveStar', 'HotelRating'] = 5\n",
    "dropped_usa_hotel_columns.HotelRating.unique()"
   ]
  },
  {
   "cell_type": "code",
   "execution_count": 63,
   "id": "7af67b4a",
   "metadata": {},
   "outputs": [
    {
     "data": {
      "application/vnd.microsoft.datawrangler.viewer.v0+json": {
       "columns": [
        {
         "name": "index",
         "rawType": "int64",
         "type": "integer"
        },
        {
         "name": "HotelName",
         "rawType": "object",
         "type": "string"
        },
        {
         "name": "HotelRating",
         "rawType": "object",
         "type": "unknown"
        },
        {
         "name": "Address",
         "rawType": "object",
         "type": "string"
        },
        {
         "name": "Description",
         "rawType": "object",
         "type": "string"
        },
        {
         "name": "City",
         "rawType": "object",
         "type": "string"
        },
        {
         "name": "State",
         "rawType": "object",
         "type": "string"
        }
       ],
       "conversionMethod": "pd.DataFrame",
       "ref": "82d1c286-0043-4db0-a7c0-179ab042afc7",
       "rows": [
        [
         "866143",
         "Sunbelt Lodge Motel",
         "2",
         "1903 Veterans Memorial Drive AbbevilleLouisiana 70510 ",
         "Sunbelt Lodge Motel is a 2-star property situated in Abbeville. Featuring a shared lounge, the 2-star motel has air-conditioned rooms with free WiFi, each with a private bathroom. The motel has family rooms.\n\nAt the motel rooms have a desk and a flat-screen TV.\n\nGuests at Sunbelt Lodge Motel can enjoy a continental breakfast.\n\nThe reception at the accommodation can provide tips on the area.\n\nLafayette is 35 km from Sunbelt Lodge Motel. The nearest airport is Lafayette Airport, 38 km from the motel. Guests are required to show a photo identification and credit card upon check-in. Please note that all Special Requests are subject to availability and additional charges may apply.\nSwimming pool #1 is closed from Tue 01 Dec 2020 until Sat 01 May 2021",
         "Abbeville",
         "LA"
        ],
        [
         "866144",
         "Budget Inn & Suites",
         "2",
         "2115 Charity Street AbbevilleLouisiana 70510 ",
         "Offering a free continental breakfast and an outdoor pool, Budget Inn & Suites is located in Abbeville. Free WiFi access is available. Each room here will provide you with a TV and air conditioning. Complete with a microwave, the dining area also has a refrigerator. Featuring a shower, private bathroom also comes with a bath and free toiletries. You can enjoy pool view from the room. Extras include a desk and bed linen.\n\nAt Budget Inn & Suites you will find a hot tub, a 24-hour front desk and barbecue facilities. Other facilities offered at the property include laundry facilities and a vending machine. The property offers free parking. Guests are required to show a photo identification and credit card upon check-in. Please note that all Special Requests are subject to availability and additional charges may apply.\nA damage deposit of USD 10 is required on arrival. This will be collected as a cash payment. You should be reimbursed on check-out. Your deposit will be refunded in full in cash, subject to an inspection of the property.",
         "Abbeville",
         "LA"
        ],
        [
         "866145",
         "Best Western Abbeville Inn & Suites",
         "2",
         "3515 Veterans Memorial Dr Abbeville AbbevilleLouisiana 70510 ",
         "<p>HeadLine : Near Abbeville General Hospital</p><p>Location : When you stay at Best Western Abbeville Inn & Suites in Abbeville, you ll be near the airport and within a 5-minute drive of Abbeville General Hospital.  This hotel is 22.2 mi (35.7 km) from Cajundome and 22.9 mi (36.8 km) from University of Louisiana at Lafayette.</p><p>Rooms : Make yourself at home in one of the 58 air-conditioned rooms featuring refrigerators and flat-screen televisions. Your room comes with a pillowtop bed. Complimentary wired and wireless Internet access keeps you connected, and cable programming provides entertainment. Private bathrooms have hair dryers and toothbrushes and toothpaste.</p><p>Dining : A complimentary buffet breakfast is served on weekdays from 6:00 AM to 9:00 AM and on weekends from 7:00 AM to 10:00 AM.</p><p>CheckIn Instructions : <ul>  <li>Extra-person charges may apply and vary depending on property policy</li><li>Government-issued photo identification and a credit card, debit card, or cash deposit may be required at check-in for incidental charges</li><li>Special requests are subject to availability upon check-in and may incur additional charges; special requests cannot be guaranteed</li><li>This property accepts credit cards, debit cards, and cash</li>  </ul></p><p>Special Instructions : Front desk staff will greet guests on arrival.</p>",
         "Abbeville",
         "LA"
        ],
        [
         "866146",
         "Motel 6 Abbeville LA",
         "2",
         "3523 Veterans Memorial Drive AbbevilleLouisiana 70510 ",
         "<p>HeadLine : Near Abbeville General Hospital</p><p>Location : Located in Abbeville, Motel 6 Abbeville, LA is in the historical district, within a 15-minute drive of Abbeville General Hospital and Rip s Rookery.  This motel is 22.3 mi (35.8 km) from Cajundome and 22.9 mi (36.9 km) from University of Louisiana at Lafayette.</p><p>Rooms : Make yourself at home in one of the 53 guestrooms featuring refrigerators and microwaves. 32-inch flat-screen televisions with cable programming provide entertainment, while complimentary wireless Internet access keeps you connected. Bathrooms have shower/tub combinations and hair dryers. Conveniences include desks and blackout drapes/curtains, as well as phones with free local calls.</p><p>Dining : Grab a bite from the snack bar/deli serving guests of Motel 6 Abbeville, LA.</p><p>Renovations : The following facilities or services will be unavailable from May 22 2023 to May 1 2024 (dates subject to change): <ul><li>Swimming pool</li></ul></p><p>CheckIn Instructions : <ul>  <li>Extra-person charges may apply and vary depending on property policy</li><li>Government-issued photo identification and a credit card may be required at check-in for incidental charges</li><li>Special requests are subject to availability upon check-in and may incur additional charges; special requests cannot be guaranteed</li><li>The name on the credit card used at check-in to pay for incidentals must be the primary name on the guestroom reservation</li><li>This property accepts credit cards, debit cards, and cash</li>  </ul></p><p>Special Instructions : Front desk staff will greet guests on arrival.</p>",
         "Abbeville",
         "LA"
        ],
        [
         "866147",
         "Days Inn by Wyndham Abbeville",
         "2",
         "730 Veterans Memorial Dr AbbevilleLouisiana 70510 ",
         "<p>HeadLine : Near Abbeville General Hospital</p><p>Location : A stay at Days Inn by Wyndham Abbeville places you in the heart of Abbeville, and within a 5-minute drive of Abbeville General Hospital.  This hotel is 19.1 mi (30.7 km) from University of Louisiana at Lafayette and 19.6 mi (31.6 km) from Cajundome.</p><p>Rooms : Make yourself at home in one of the 40 guestrooms featuring refrigerators and LED televisions. Rooms have private balconies. Complimentary wired and wireless Internet access keeps you connected, and cable programming provides entertainment. Private bathrooms with shower/tub combinations feature deep soaking bathtubs and complimentary toiletries.</p><p>Dining : Take advantage of the hotel s 24-hour room service. A complimentary on-the-go breakfast is served daily from 6 AM to 9 AM.</p><p>CheckIn Instructions : <ul>  <li>Extra-person charges may apply and vary depending on property policy</li><li>Government-issued photo identification and a credit card, debit card, or cash deposit may be required at check-in for incidental charges</li><li>Special requests are subject to availability upon check-in and may incur additional charges; special requests cannot be guaranteed</li><li>This property accepts credit cards; cash is not accepted</li>  </ul></p><p>Special Instructions : This property doesn t offer after-hours check-in. Front desk staff will greet guests on arrival.</p>",
         "Abbeville",
         "LA"
        ]
       ],
       "shape": {
        "columns": 6,
        "rows": 5
       }
      },
      "text/html": [
       "<div>\n",
       "<style scoped>\n",
       "    .dataframe tbody tr th:only-of-type {\n",
       "        vertical-align: middle;\n",
       "    }\n",
       "\n",
       "    .dataframe tbody tr th {\n",
       "        vertical-align: top;\n",
       "    }\n",
       "\n",
       "    .dataframe thead th {\n",
       "        text-align: right;\n",
       "    }\n",
       "</style>\n",
       "<table border=\"1\" class=\"dataframe\">\n",
       "  <thead>\n",
       "    <tr style=\"text-align: right;\">\n",
       "      <th></th>\n",
       "      <th>HotelName</th>\n",
       "      <th>HotelRating</th>\n",
       "      <th>Address</th>\n",
       "      <th>Description</th>\n",
       "      <th>City</th>\n",
       "      <th>State</th>\n",
       "    </tr>\n",
       "  </thead>\n",
       "  <tbody>\n",
       "    <tr>\n",
       "      <th>866143</th>\n",
       "      <td>Sunbelt Lodge Motel</td>\n",
       "      <td>2</td>\n",
       "      <td>1903 Veterans Memorial Drive AbbevilleLouisian...</td>\n",
       "      <td>Sunbelt Lodge Motel is a 2-star property situa...</td>\n",
       "      <td>Abbeville</td>\n",
       "      <td>LA</td>\n",
       "    </tr>\n",
       "    <tr>\n",
       "      <th>866144</th>\n",
       "      <td>Budget Inn &amp; Suites</td>\n",
       "      <td>2</td>\n",
       "      <td>2115 Charity Street AbbevilleLouisiana 70510</td>\n",
       "      <td>Offering a free continental breakfast and an o...</td>\n",
       "      <td>Abbeville</td>\n",
       "      <td>LA</td>\n",
       "    </tr>\n",
       "    <tr>\n",
       "      <th>866145</th>\n",
       "      <td>Best Western Abbeville Inn &amp; Suites</td>\n",
       "      <td>2</td>\n",
       "      <td>3515 Veterans Memorial Dr Abbeville AbbevilleL...</td>\n",
       "      <td>&lt;p&gt;HeadLine : Near Abbeville General Hospital&lt;...</td>\n",
       "      <td>Abbeville</td>\n",
       "      <td>LA</td>\n",
       "    </tr>\n",
       "    <tr>\n",
       "      <th>866146</th>\n",
       "      <td>Motel 6 Abbeville LA</td>\n",
       "      <td>2</td>\n",
       "      <td>3523 Veterans Memorial Drive AbbevilleLouisian...</td>\n",
       "      <td>&lt;p&gt;HeadLine : Near Abbeville General Hospital&lt;...</td>\n",
       "      <td>Abbeville</td>\n",
       "      <td>LA</td>\n",
       "    </tr>\n",
       "    <tr>\n",
       "      <th>866147</th>\n",
       "      <td>Days Inn by Wyndham Abbeville</td>\n",
       "      <td>2</td>\n",
       "      <td>730 Veterans Memorial Dr AbbevilleLouisiana 70...</td>\n",
       "      <td>&lt;p&gt;HeadLine : Near Abbeville General Hospital&lt;...</td>\n",
       "      <td>Abbeville</td>\n",
       "      <td>LA</td>\n",
       "    </tr>\n",
       "  </tbody>\n",
       "</table>\n",
       "</div>"
      ],
      "text/plain": [
       "                                  HotelName HotelRating  \\\n",
       "866143                  Sunbelt Lodge Motel           2   \n",
       "866144                  Budget Inn & Suites           2   \n",
       "866145  Best Western Abbeville Inn & Suites           2   \n",
       "866146                 Motel 6 Abbeville LA           2   \n",
       "866147        Days Inn by Wyndham Abbeville           2   \n",
       "\n",
       "                                                  Address  \\\n",
       "866143  1903 Veterans Memorial Drive AbbevilleLouisian...   \n",
       "866144      2115 Charity Street AbbevilleLouisiana 70510    \n",
       "866145  3515 Veterans Memorial Dr Abbeville AbbevilleL...   \n",
       "866146  3523 Veterans Memorial Drive AbbevilleLouisian...   \n",
       "866147  730 Veterans Memorial Dr AbbevilleLouisiana 70...   \n",
       "\n",
       "                                              Description       City State  \n",
       "866143  Sunbelt Lodge Motel is a 2-star property situa...  Abbeville    LA  \n",
       "866144  Offering a free continental breakfast and an o...  Abbeville    LA  \n",
       "866145  <p>HeadLine : Near Abbeville General Hospital<...  Abbeville    LA  \n",
       "866146  <p>HeadLine : Near Abbeville General Hospital<...  Abbeville    LA  \n",
       "866147  <p>HeadLine : Near Abbeville General Hospital<...  Abbeville    LA  "
      ]
     },
     "execution_count": 63,
     "metadata": {},
     "output_type": "execute_result"
    }
   ],
   "source": [
    "dropped_usa_hotel_columns.head()"
   ]
  },
  {
   "cell_type": "code",
   "execution_count": 69,
   "id": "2380dba9",
   "metadata": {},
   "outputs": [],
   "source": [
    "dropped_usa_hotel_columns.loc[dropped_usa_hotel_columns['HotelRating'] == 'All', 'HotelRating'] = 0"
   ]
  },
  {
   "cell_type": "code",
   "execution_count": null,
   "id": "77f11e04",
   "metadata": {},
   "outputs": [
    {
     "data": {
      "text/plain": [
       "HotelName      object\n",
       "HotelRating    object\n",
       "Address        object\n",
       "Description    object\n",
       "City           object\n",
       "State          object\n",
       "dtype: object"
      ]
     },
     "execution_count": 67,
     "metadata": {},
     "output_type": "execute_result"
    }
   ],
   "source": [
    "dropped_usa_hotel_columns"
   ]
  },
  {
   "cell_type": "code",
   "execution_count": 22,
   "id": "0a5951cc",
   "metadata": {},
   "outputs": [],
   "source": [
    "import os"
   ]
  },
  {
   "cell_type": "code",
   "execution_count": 23,
   "id": "f5fb8e9d",
   "metadata": {},
   "outputs": [
    {
     "data": {
      "text/plain": [
       "'/home/liquid/final'"
      ]
     },
     "execution_count": 23,
     "metadata": {},
     "output_type": "execute_result"
    }
   ],
   "source": [
    "os.getcwd()"
   ]
  },
  {
   "cell_type": "code",
   "execution_count": 24,
   "id": "01ef11f2",
   "metadata": {},
   "outputs": [],
   "source": [
    "\n",
    "# Build path to the parquet file in the same directory\n",
    "parquet_path = \"/home/liquid/final/db/usa_hotels.parquet\"\n",
    "usa_hotels = pd.read_parquet(parquet_path)"
   ]
  },
  {
   "cell_type": "code",
   "execution_count": 25,
   "id": "ed85df40",
   "metadata": {},
   "outputs": [
    {
     "name": "stdout",
     "output_type": "stream",
     "text": [
      "<class 'pandas.core.frame.DataFrame'>\n",
      "Index: 139868 entries, 866143 to 1006010\n",
      "Data columns (total 6 columns):\n",
      " #   Column       Non-Null Count   Dtype \n",
      "---  ------       --------------   ----- \n",
      " 0   HotelName    139868 non-null  object\n",
      " 1   HotelRating  139868 non-null  int64 \n",
      " 2   Address      139865 non-null  object\n",
      " 3   Description  138955 non-null  object\n",
      " 4   City         139868 non-null  object\n",
      " 5   State        139868 non-null  object\n",
      "dtypes: int64(1), object(5)\n",
      "memory usage: 7.5+ MB\n"
     ]
    }
   ],
   "source": [
    "usa_hotels.info()"
   ]
  },
  {
   "cell_type": "markdown",
   "id": "1e5a1eb3",
   "metadata": {},
   "source": []
  }
 ],
 "metadata": {
  "kernelspec": {
   "display_name": ".venv",
   "language": "python",
   "name": "python3"
  },
  "language_info": {
   "codemirror_mode": {
    "name": "ipython",
    "version": 3
   },
   "file_extension": ".py",
   "mimetype": "text/x-python",
   "name": "python",
   "nbconvert_exporter": "python",
   "pygments_lexer": "ipython3",
   "version": "3.10.12"
  }
 },
 "nbformat": 4,
 "nbformat_minor": 5
}
